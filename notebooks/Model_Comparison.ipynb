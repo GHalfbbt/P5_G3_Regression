{
 "cells": [
  {
   "cell_type": "markdown",
   "id": "0",
   "metadata": {},
   "source": [
    "# 📊 Comparación de Modelos de Regresión\n",
    "\n",
    "En este notebook realizamos una **comparativa final** entre todos los modelos entrenados:  \n",
    "\n",
    "- **Regresión Lineal**  \n",
    "- **Árbol de Decisión**  \n",
    "- **Random Forest**  \n",
    "- **XGBoost (con Optuna)**  \n",
    "- **Ridge, Lasso y Elastic Net**  \n",
    "- **KNN Regressor**\n",
    "\n",
    "La comparación se realiza con las métricas:  \n",
    "- **RMSE (Root Mean Squared Error):** penaliza más los errores grandes.  \n",
    "- **MAE (Mean Absolute Error):** mide el error medio absoluto, más robusto a outliers.  \n",
    "- **R² (Coeficiente de determinación):** proporción de la varianza explicada.  \n",
    "\n",
    "Finalmente, representamos gráficamente las métricas para evaluar qué modelo es más adecuado para predecir la **Esperanza de Vida**.\n"
   ]
  },
  {
   "cell_type": "markdown",
   "id": "1",
   "metadata": {},
   "source": [
    "## **Paso 1. Importar librerías y cargar resultados**\n",
    "\n",
    "Cargamos los datos de las métricas calculadas para cada algoritmo en su correspondiente notebook:\n",
    "\n",
    "Los rachivos son los siguientes de cada modelo:\n",
    "\n",
    "- df_lr = pd.read_csv(\"../data/results_linear.csv\")\n",
    "- df_trees = pd.read_csv(\"../data/results_trees_all.csv\")\n",
    "- df_xgb_base = pd.read_csv(\"../data/results_xgboost_baseline.csv\")\n",
    "- df_xgb_optuna = pd.read_csv(\"../data/results_xgboost_optuna.csv\")\n",
    "- df_xgb_comp = pd.read_csv(\"../data/results_xgboost_comparison.csv\")  # opcional si quieres baseline vs - optimizado\n",
    "- df_ridge_lasso_en = pd.read_csv(\"../data/results_ridge_lasso_elasticnet.csv\")\n",
    "- df_knn = pd.read_csv(\"../data/results_knn.csv\")\n",
    "\n"
   ]
  },
  {
   "cell_type": "code",
   "execution_count": null,
   "id": "2",
   "metadata": {},
   "outputs": [],
   "source": [
    "# ===================================\n",
    "# 1. Importar librerías\n",
    "# ===================================\n",
    "import pandas as pd\n",
    "import matplotlib.pyplot as plt\n",
    "import seaborn as sns\n",
    "import glob\n",
    "\n",
    "# ===================================\n",
    "# 2. Cargar todos los resultados de cada modelo automáticamente\n",
    "# ===================================\n",
    "files = glob.glob(\"../data/results_*.csv\")\n",
    "\n",
    "# Concatenamos todos los resultados en un único DataFrame\n",
    "comparison = pd.concat([pd.read_csv(f) for f in files], ignore_index=True)\n",
    "\n",
    "# Ordenamos por RMSE (menor es mejor)\n",
    "comparison = comparison.sort_values(by=\"RMSE\").reset_index(drop=True)\n",
    "\n",
    "print(\"📊 Resultados comparativos consolidados:\")\n",
    "display(comparison)\n",
    "\n",
    "#df_lr = pd.read_csv(\"../data/results_linear.csv\")\n",
    "#df_trees = pd.read_csv(\"../data/results_trees_all.csv\")\n",
    "#df_xgb_base = pd.read_csv(\"../data/results_xgboost_baseline.csv\")\n",
    "#df_xgb_optuna = pd.read_csv(\"../data/results_xgboost_optuna.csv\")\n",
    "#df_xgb_comp = pd.read_csv(\"../data/results_xgboost_comparison.csv\")  # opcional si quieres baseline vs optimizado\n",
    "#df_ridge_lasso_en = pd.read_csv(\"../data/results_ridge_lasso_elasticnet.csv\")\n",
    "#df_knn = pd.read_csv(\"../data/results_knn.csv\")\n",
    "\n",
    "\n"
   ]
  },
  {
   "cell_type": "markdown",
   "id": "3",
   "metadata": {},
   "source": [
    "## **Paso 2. Visualización comparativa\n",
    "\n",
    "Los siguientes gráficos muestran la comparación entre modelos:  \n",
    "\n",
    "1. **RMSE y MAE:** menor valor = mejor ajuste.  \n",
    "2. **R²:** más cercano a 1 = mejor capacidad explicativa.  \n",
    "\n",
    "Esto nos ayuda a ver rápidamente qué modelos destacan sobre el resto.\n"
   ]
  },
  {
   "cell_type": "code",
   "execution_count": null,
   "id": "4",
   "metadata": {},
   "outputs": [],
   "source": [
    "\n",
    "# ===================================\n",
    "# 3. Comparación visual de RMSE y MAE\n",
    "# ===================================\n",
    "plt.figure(figsize=(12,6))\n",
    "comparison.set_index(\"Modelo\")[[\"RMSE\",\"MAE\"]].plot(kind=\"bar\", figsize=(12,6))\n",
    "plt.title(\"Comparación de errores (RMSE y MAE) entre modelos\")\n",
    "plt.ylabel(\"Error\")\n",
    "plt.xticks(rotation=45, ha=\"right\")\n",
    "plt.legend(title=\"Métrica\")\n",
    "plt.show()\n",
    "\n",
    "# ===================================\n",
    "# 4. Comparación visual de R²\n",
    "# ===================================\n",
    "plt.figure(figsize=(10,5))\n",
    "sns.barplot(\n",
    "    x=\"Modelo\", \n",
    "    y=\"R²\", \n",
    "    data=comparison, \n",
    "    palette=\"Blues_r\", \n",
    "    hue=\"Modelo\", \n",
    "    legend=False\n",
    ")\n",
    "plt.title(\"Comparación de R² entre modelos\")\n",
    "plt.ylabel(\"R²\")\n",
    "plt.ylim(0,1)\n",
    "plt.xticks(rotation=45, ha=\"right\")\n",
    "plt.show()\n",
    "\n"
   ]
  },
  {
   "cell_type": "markdown",
   "id": "5",
   "metadata": {},
   "source": [
    "## **Paso 3. 📊 Comparación final de modelos**\n",
    "\n",
    "En este bloque consolidamos todos los resultados de los diferentes algoritmos probados:\n",
    "\n",
    "- **Linear Regression**\n",
    "- **Decision Tree**\n",
    "- **Random Forest** (baseline y optimizado)\n",
    "- **XGBoost** (baseline y optimizado con Optuna)\n",
    "- **Ridge, Lasso y Elastic Net**\n",
    "- **KNN Regressor**\n",
    "\n",
    "**Gráficos:**\n",
    "- El primer gráfico compara los errores **RMSE** y **MAE** → cuanto más bajos, mejor.  \n",
    "- El segundo gráfico muestra el **R²** → cuanto más alto y más cercano a 1, mejor es la capacidad explicativa del modelo.  \n",
    "\n",
    "Esto nos permite identificar cuál modelo tiene mejor desempeño global y si hay compromisos (ejemplo: menor error, pero mayor complejidad).  \n"
   ]
  },
  {
   "cell_type": "markdown",
   "id": "6",
   "metadata": {},
   "source": [
    "## **Ranking por métrica**"
   ]
  },
  {
   "cell_type": "code",
   "execution_count": null,
   "id": "7",
   "metadata": {},
   "outputs": [],
   "source": [
    "# ===================================\n",
    "# 6. Ranking por métrica\n",
    "# ===================================\n",
    "\n",
    "# Ranking de los tres mejores modelos por cada métrica\n",
    "ranking = pd.DataFrame({\n",
    "    \"Top 10: Mejor RMSE\": comparison.sort_values(\"RMSE\").head(10)[\"Modelo\"].values,\n",
    "    \"Top 10: Mejor MAE\": comparison.sort_values(\"MAE\").head(10)[\"Modelo\"].values,\n",
    "    \"Top 10: Mejor R²\": comparison.sort_values(\"R²\", ascending=False).head(10)[\"Modelo\"].values\n",
    "})\n",
    "\n",
    "print(\"🏆 Ranking de los tres mejores modelos por métrica:\")\n",
    "display(ranking)\n"
   ]
  },
  {
   "cell_type": "markdown",
   "id": "8",
   "metadata": {},
   "source": [
    "## **Paso 4. ✅ Conclusiones**\n",
    "\n",
    "- **XGBoost** y **Random Forest** suelen ser los modelos más sólidos para datos tabulares no lineales.  \n",
    "- **Regresión Lineal** y **Ridge/Lasso/ElasticNet** capturan bien relaciones lineales, pero no modelan interacciones complejas.  \n",
    "- **KNN Regressor** funciona razonablemente, pero es sensible a la escala y a valores atípicos.  \n",
    "- La métrica más estable y robusta es **MAE**, ya que RMSE penaliza demasiado los outliers.  \n",
    "\n",
    "📌 En este dataset, el modelo que logra el mejor equilibrio entre error bajo (RMSE/MAE) y capacidad explicativa (R²) es **XGBoost**.  \n",
    "\n",
    "Este será el modelo elegido para nuestro **Producto Mínimo Viable (PMV)**.\n"
   ]
  }
 ],
 "metadata": {
  "kernelspec": {
   "display_name": "venv",
   "language": "python",
   "name": "python3"
  },
  "language_info": {
   "codemirror_mode": {
    "name": "ipython",
    "version": 3
   },
   "file_extension": ".py",
   "mimetype": "text/x-python",
   "name": "python",
   "nbconvert_exporter": "python",
   "pygments_lexer": "ipython3",
   "version": "3.11.9"
  }
 },
 "nbformat": 4,
 "nbformat_minor": 5
}
